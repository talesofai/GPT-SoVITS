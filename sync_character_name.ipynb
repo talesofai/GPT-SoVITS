{
 "cells": [
  {
   "cell_type": "code",
   "execution_count": 1,
   "id": "eccdd744-f567-4ffa-9eb4-8afd7af1091b",
   "metadata": {},
   "outputs": [
    {
     "name": "stdout",
     "output_type": "stream",
     "text": [
      "['散兵', '明日香', '温迪', '灰原哀', '纳西妲', '芙宁娜', '芙莉莲', '钟离', '雷电将军', '饮月', '五条悟', '魈', '艾尔海森', '莱欧斯利', '胡桃', '枫原万叶', '那维莱特', '八重神子', '达达利亚', '荧', '卡维', '阿尼亚', '阿蕾奇诺']\n",
      "[\"\\u6563\\u5175\", \"\\u660e\\u65e5\\u9999\", \"\\u6e29\\u8fea\", \"\\u7070\\u539f\\u54c0\", \"\\u7eb3\\u897f\\u59b2\", \"\\u8299\\u5b81\\u5a1c\", \"\\u8299\\u8389\\u83b2\", \"\\u949f\\u79bb\", \"\\u96f7\\u7535\\u5c06\\u519b\", \"\\u996e\\u6708\", \"\\u4e94\\u6761\\u609f\", \"\\u9b48\", \"\\u827e\\u5c14\\u6d77\\u68ee\", \"\\u83b1\\u6b27\\u65af\\u5229\", \"\\u80e1\\u6843\", \"\\u67ab\\u539f\\u4e07\\u53f6\", \"\\u90a3\\u7ef4\\u83b1\\u7279\", \"\\u516b\\u91cd\\u795e\\u5b50\", \"\\u8fbe\\u8fbe\\u5229\\u4e9a\", \"\\u8367\", \"\\u5361\\u7ef4\", \"\\u963f\\u5c3c\\u4e9a\", \"\\u963f\\u857e\\u5947\\u8bfa\"]\n"
     ]
    }
   ],
   "source": [
    "import os\n",
    "import json\n",
    "# import redis\n",
    "\n",
    "# # 创建Redis连接\n",
    "# redis_client = redis.Redis(host='localhost', port=6379, db=22)\n",
    "\n",
    "# 指定文件夹路径\n",
    "folder_path = '/root/autodl-tmp/models'  # 替换为实际的文件夹路径\n",
    "\n",
    "# 遍历文件夹并存储子文件夹名称\n",
    "subfolders = []\n",
    "for item in os.listdir(folder_path):\n",
    "    item_path = os.path.join(folder_path, item)\n",
    "    if os.path.isdir(item_path) and not item.startswith('.'):\n",
    "        subfolders.append(item)\n",
    "\n",
    "# 将列表转换为JSON字符串\n",
    "json_data = json.dumps(subfolders)\n",
    "print(subfolders)\n",
    "\n",
    "print(json_data)"
   ]
  }
 ],
 "metadata": {
  "kernelspec": {
   "display_name": "Python 3 (ipykernel)",
   "language": "python",
   "name": "python3"
  },
  "language_info": {
   "codemirror_mode": {
    "name": "ipython",
    "version": 3
   },
   "file_extension": ".py",
   "mimetype": "text/x-python",
   "name": "python",
   "nbconvert_exporter": "python",
   "pygments_lexer": "ipython3",
   "version": "3.10.8"
  }
 },
 "nbformat": 4,
 "nbformat_minor": 5
}
